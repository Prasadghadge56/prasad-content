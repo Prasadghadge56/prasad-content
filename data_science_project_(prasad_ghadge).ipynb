{
  "nbformat": 4,
  "nbformat_minor": 0,
  "metadata": {
    "colab": {
      "provenance": []
    },
    "kernelspec": {
      "name": "python3",
      "display_name": "Python 3"
    },
    "language_info": {
      "name": "python"
    }
  },
  "cells": [
    {
      "cell_type": "code",
      "source": [
        "import pandas as pd\n",
        "import numpy as np\n",
        "import seaborn as sns\n",
        "import matplotlib.pyplot as plt"
      ],
      "metadata": {
        "id": "KtDpvnnBnwQn"
      },
      "execution_count": null,
      "outputs": []
    },
    {
      "cell_type": "code",
      "source": [
        "# step 2: import data\n",
        "disease = pd.read_csv('https://github.com/ybifoundation/Dataset/raw/main/MultipleDiseasePrediction.csv')"
      ],
      "metadata": {
        "id": "-4yFFk8pn1th"
      },
      "execution_count": null,
      "outputs": []
    },
    {
      "cell_type": "code",
      "source": [
        "#step 3: view data\n",
        "disease.head()"
      ],
      "metadata": {
        "colab": {
          "base_uri": "https://localhost:8080/",
          "height": 386
        },
        "id": "70doc7QVoLfW",
        "outputId": "5bc53e2f-4eea-4755-9ecf-73e27ac5b0ee"
      },
      "execution_count": null,
      "outputs": [
        {
          "output_type": "execute_result",
          "data": {
            "text/plain": [
              "   itching  skin_rash  nodal_skin_eruptions  continuous_sneezing  shivering  \\\n",
              "0        1          1                     1                    0          0   \n",
              "1        0          1                     1                    0          0   \n",
              "2        1          0                     1                    0          0   \n",
              "3        1          1                     0                    0          0   \n",
              "4        1          1                     1                    0          0   \n",
              "\n",
              "   chills  joint_pain  stomach_pain  acidity  ulcers_on_tongue  ...  \\\n",
              "0       0           0             0        0                 0  ...   \n",
              "1       0           0             0        0                 0  ...   \n",
              "2       0           0             0        0                 0  ...   \n",
              "3       0           0             0        0                 0  ...   \n",
              "4       0           0             0        0                 0  ...   \n",
              "\n",
              "   blackheads  scurring  skin_peeling  silver_like_dusting  \\\n",
              "0           0         0             0                    0   \n",
              "1           0         0             0                    0   \n",
              "2           0         0             0                    0   \n",
              "3           0         0             0                    0   \n",
              "4           0         0             0                    0   \n",
              "\n",
              "   small_dents_in_nails  inflammatory_nails  blister  red_sore_around_nose  \\\n",
              "0                     0                   0        0                     0   \n",
              "1                     0                   0        0                     0   \n",
              "2                     0                   0        0                     0   \n",
              "3                     0                   0        0                     0   \n",
              "4                     0                   0        0                     0   \n",
              "\n",
              "   yellow_crust_ooze         prognosis  \n",
              "0                  0  Fungal infection  \n",
              "1                  0  Fungal infection  \n",
              "2                  0  Fungal infection  \n",
              "3                  0  Fungal infection  \n",
              "4                  0  Fungal infection  \n",
              "\n",
              "[5 rows x 133 columns]"
            ],
            "text/html": [
              "\n",
              "  <div id=\"df-cea80f18-e16b-44d5-97c6-973c264a2a33\">\n",
              "    <div class=\"colab-df-container\">\n",
              "      <div>\n",
              "<style scoped>\n",
              "    .dataframe tbody tr th:only-of-type {\n",
              "        vertical-align: middle;\n",
              "    }\n",
              "\n",
              "    .dataframe tbody tr th {\n",
              "        vertical-align: top;\n",
              "    }\n",
              "\n",
              "    .dataframe thead th {\n",
              "        text-align: right;\n",
              "    }\n",
              "</style>\n",
              "<table border=\"1\" class=\"dataframe\">\n",
              "  <thead>\n",
              "    <tr style=\"text-align: right;\">\n",
              "      <th></th>\n",
              "      <th>itching</th>\n",
              "      <th>skin_rash</th>\n",
              "      <th>nodal_skin_eruptions</th>\n",
              "      <th>continuous_sneezing</th>\n",
              "      <th>shivering</th>\n",
              "      <th>chills</th>\n",
              "      <th>joint_pain</th>\n",
              "      <th>stomach_pain</th>\n",
              "      <th>acidity</th>\n",
              "      <th>ulcers_on_tongue</th>\n",
              "      <th>...</th>\n",
              "      <th>blackheads</th>\n",
              "      <th>scurring</th>\n",
              "      <th>skin_peeling</th>\n",
              "      <th>silver_like_dusting</th>\n",
              "      <th>small_dents_in_nails</th>\n",
              "      <th>inflammatory_nails</th>\n",
              "      <th>blister</th>\n",
              "      <th>red_sore_around_nose</th>\n",
              "      <th>yellow_crust_ooze</th>\n",
              "      <th>prognosis</th>\n",
              "    </tr>\n",
              "  </thead>\n",
              "  <tbody>\n",
              "    <tr>\n",
              "      <th>0</th>\n",
              "      <td>1</td>\n",
              "      <td>1</td>\n",
              "      <td>1</td>\n",
              "      <td>0</td>\n",
              "      <td>0</td>\n",
              "      <td>0</td>\n",
              "      <td>0</td>\n",
              "      <td>0</td>\n",
              "      <td>0</td>\n",
              "      <td>0</td>\n",
              "      <td>...</td>\n",
              "      <td>0</td>\n",
              "      <td>0</td>\n",
              "      <td>0</td>\n",
              "      <td>0</td>\n",
              "      <td>0</td>\n",
              "      <td>0</td>\n",
              "      <td>0</td>\n",
              "      <td>0</td>\n",
              "      <td>0</td>\n",
              "      <td>Fungal infection</td>\n",
              "    </tr>\n",
              "    <tr>\n",
              "      <th>1</th>\n",
              "      <td>0</td>\n",
              "      <td>1</td>\n",
              "      <td>1</td>\n",
              "      <td>0</td>\n",
              "      <td>0</td>\n",
              "      <td>0</td>\n",
              "      <td>0</td>\n",
              "      <td>0</td>\n",
              "      <td>0</td>\n",
              "      <td>0</td>\n",
              "      <td>...</td>\n",
              "      <td>0</td>\n",
              "      <td>0</td>\n",
              "      <td>0</td>\n",
              "      <td>0</td>\n",
              "      <td>0</td>\n",
              "      <td>0</td>\n",
              "      <td>0</td>\n",
              "      <td>0</td>\n",
              "      <td>0</td>\n",
              "      <td>Fungal infection</td>\n",
              "    </tr>\n",
              "    <tr>\n",
              "      <th>2</th>\n",
              "      <td>1</td>\n",
              "      <td>0</td>\n",
              "      <td>1</td>\n",
              "      <td>0</td>\n",
              "      <td>0</td>\n",
              "      <td>0</td>\n",
              "      <td>0</td>\n",
              "      <td>0</td>\n",
              "      <td>0</td>\n",
              "      <td>0</td>\n",
              "      <td>...</td>\n",
              "      <td>0</td>\n",
              "      <td>0</td>\n",
              "      <td>0</td>\n",
              "      <td>0</td>\n",
              "      <td>0</td>\n",
              "      <td>0</td>\n",
              "      <td>0</td>\n",
              "      <td>0</td>\n",
              "      <td>0</td>\n",
              "      <td>Fungal infection</td>\n",
              "    </tr>\n",
              "    <tr>\n",
              "      <th>3</th>\n",
              "      <td>1</td>\n",
              "      <td>1</td>\n",
              "      <td>0</td>\n",
              "      <td>0</td>\n",
              "      <td>0</td>\n",
              "      <td>0</td>\n",
              "      <td>0</td>\n",
              "      <td>0</td>\n",
              "      <td>0</td>\n",
              "      <td>0</td>\n",
              "      <td>...</td>\n",
              "      <td>0</td>\n",
              "      <td>0</td>\n",
              "      <td>0</td>\n",
              "      <td>0</td>\n",
              "      <td>0</td>\n",
              "      <td>0</td>\n",
              "      <td>0</td>\n",
              "      <td>0</td>\n",
              "      <td>0</td>\n",
              "      <td>Fungal infection</td>\n",
              "    </tr>\n",
              "    <tr>\n",
              "      <th>4</th>\n",
              "      <td>1</td>\n",
              "      <td>1</td>\n",
              "      <td>1</td>\n",
              "      <td>0</td>\n",
              "      <td>0</td>\n",
              "      <td>0</td>\n",
              "      <td>0</td>\n",
              "      <td>0</td>\n",
              "      <td>0</td>\n",
              "      <td>0</td>\n",
              "      <td>...</td>\n",
              "      <td>0</td>\n",
              "      <td>0</td>\n",
              "      <td>0</td>\n",
              "      <td>0</td>\n",
              "      <td>0</td>\n",
              "      <td>0</td>\n",
              "      <td>0</td>\n",
              "      <td>0</td>\n",
              "      <td>0</td>\n",
              "      <td>Fungal infection</td>\n",
              "    </tr>\n",
              "  </tbody>\n",
              "</table>\n",
              "<p>5 rows × 133 columns</p>\n",
              "</div>\n",
              "      <button class=\"colab-df-convert\" onclick=\"convertToInteractive('df-cea80f18-e16b-44d5-97c6-973c264a2a33')\"\n",
              "              title=\"Convert this dataframe to an interactive table.\"\n",
              "              style=\"display:none;\">\n",
              "        \n",
              "  <svg xmlns=\"http://www.w3.org/2000/svg\" height=\"24px\"viewBox=\"0 0 24 24\"\n",
              "       width=\"24px\">\n",
              "    <path d=\"M0 0h24v24H0V0z\" fill=\"none\"/>\n",
              "    <path d=\"M18.56 5.44l.94 2.06.94-2.06 2.06-.94-2.06-.94-.94-2.06-.94 2.06-2.06.94zm-11 1L8.5 8.5l.94-2.06 2.06-.94-2.06-.94L8.5 2.5l-.94 2.06-2.06.94zm10 10l.94 2.06.94-2.06 2.06-.94-2.06-.94-.94-2.06-.94 2.06-2.06.94z\"/><path d=\"M17.41 7.96l-1.37-1.37c-.4-.4-.92-.59-1.43-.59-.52 0-1.04.2-1.43.59L10.3 9.45l-7.72 7.72c-.78.78-.78 2.05 0 2.83L4 21.41c.39.39.9.59 1.41.59.51 0 1.02-.2 1.41-.59l7.78-7.78 2.81-2.81c.8-.78.8-2.07 0-2.86zM5.41 20L4 18.59l7.72-7.72 1.47 1.35L5.41 20z\"/>\n",
              "  </svg>\n",
              "      </button>\n",
              "      \n",
              "  <style>\n",
              "    .colab-df-container {\n",
              "      display:flex;\n",
              "      flex-wrap:wrap;\n",
              "      gap: 12px;\n",
              "    }\n",
              "\n",
              "    .colab-df-convert {\n",
              "      background-color: #E8F0FE;\n",
              "      border: none;\n",
              "      border-radius: 50%;\n",
              "      cursor: pointer;\n",
              "      display: none;\n",
              "      fill: #1967D2;\n",
              "      height: 32px;\n",
              "      padding: 0 0 0 0;\n",
              "      width: 32px;\n",
              "    }\n",
              "\n",
              "    .colab-df-convert:hover {\n",
              "      background-color: #E2EBFA;\n",
              "      box-shadow: 0px 1px 2px rgba(60, 64, 67, 0.3), 0px 1px 3px 1px rgba(60, 64, 67, 0.15);\n",
              "      fill: #174EA6;\n",
              "    }\n",
              "\n",
              "    [theme=dark] .colab-df-convert {\n",
              "      background-color: #3B4455;\n",
              "      fill: #D2E3FC;\n",
              "    }\n",
              "\n",
              "    [theme=dark] .colab-df-convert:hover {\n",
              "      background-color: #434B5C;\n",
              "      box-shadow: 0px 1px 3px 1px rgba(0, 0, 0, 0.15);\n",
              "      filter: drop-shadow(0px 1px 2px rgba(0, 0, 0, 0.3));\n",
              "      fill: #FFFFFF;\n",
              "    }\n",
              "  </style>\n",
              "\n",
              "      <script>\n",
              "        const buttonEl =\n",
              "          document.querySelector('#df-cea80f18-e16b-44d5-97c6-973c264a2a33 button.colab-df-convert');\n",
              "        buttonEl.style.display =\n",
              "          google.colab.kernel.accessAllowed ? 'block' : 'none';\n",
              "\n",
              "        async function convertToInteractive(key) {\n",
              "          const element = document.querySelector('#df-cea80f18-e16b-44d5-97c6-973c264a2a33');\n",
              "          const dataTable =\n",
              "            await google.colab.kernel.invokeFunction('convertToInteractive',\n",
              "                                                     [key], {});\n",
              "          if (!dataTable) return;\n",
              "\n",
              "          const docLinkHtml = 'Like what you see? Visit the ' +\n",
              "            '<a target=\"_blank\" href=https://colab.research.google.com/notebooks/data_table.ipynb>data table notebook</a>'\n",
              "            + ' to learn more about interactive tables.';\n",
              "          element.innerHTML = '';\n",
              "          dataTable['output_type'] = 'display_data';\n",
              "          await google.colab.output.renderOutput(dataTable, element);\n",
              "          const docLink = document.createElement('div');\n",
              "          docLink.innerHTML = docLinkHtml;\n",
              "          element.appendChild(docLink);\n",
              "        }\n",
              "      </script>\n",
              "    </div>\n",
              "  </div>\n",
              "  "
            ]
          },
          "metadata": {},
          "execution_count": 45
        }
      ]
    },
    {
      "cell_type": "code",
      "source": [
        "# info of data\n",
        "disease.info()"
      ],
      "metadata": {
        "colab": {
          "base_uri": "https://localhost:8080/"
        },
        "id": "toZvD7O_od8h",
        "outputId": "6f1148f6-1e4a-474d-85a4-4fac58067740"
      },
      "execution_count": null,
      "outputs": [
        {
          "output_type": "stream",
          "name": "stdout",
          "text": [
            "<class 'pandas.core.frame.DataFrame'>\n",
            "RangeIndex: 4920 entries, 0 to 4919\n",
            "Columns: 133 entries, itching to prognosis\n",
            "dtypes: int64(132), object(1)\n",
            "memory usage: 5.0+ MB\n"
          ]
        }
      ]
    },
    {
      "cell_type": "code",
      "source": [
        "print (disease)"
      ],
      "metadata": {
        "colab": {
          "base_uri": "https://localhost:8080/"
        },
        "id": "WOayBERYt8Q4",
        "outputId": "637616ed-fe57-42b9-ec1e-13d49fd90424"
      },
      "execution_count": null,
      "outputs": [
        {
          "output_type": "stream",
          "name": "stdout",
          "text": [
            "      itching  skin_rash  nodal_skin_eruptions  continuous_sneezing  \\\n",
            "0           1          1                     1                    0   \n",
            "1           0          1                     1                    0   \n",
            "2           1          0                     1                    0   \n",
            "3           1          1                     0                    0   \n",
            "4           1          1                     1                    0   \n",
            "...       ...        ...                   ...                  ...   \n",
            "4915        0          0                     0                    0   \n",
            "4916        0          1                     0                    0   \n",
            "4917        0          0                     0                    0   \n",
            "4918        0          1                     0                    0   \n",
            "4919        0          1                     0                    0   \n",
            "\n",
            "      shivering  chills  joint_pain  stomach_pain  acidity  ulcers_on_tongue  \\\n",
            "0             0       0           0             0        0                 0   \n",
            "1             0       0           0             0        0                 0   \n",
            "2             0       0           0             0        0                 0   \n",
            "3             0       0           0             0        0                 0   \n",
            "4             0       0           0             0        0                 0   \n",
            "...         ...     ...         ...           ...      ...               ...   \n",
            "4915          0       0           0             0        0                 0   \n",
            "4916          0       0           0             0        0                 0   \n",
            "4917          0       0           0             0        0                 0   \n",
            "4918          0       0           1             0        0                 0   \n",
            "4919          0       0           0             0        0                 0   \n",
            "\n",
            "      ...  blackheads  scurring  skin_peeling  silver_like_dusting  \\\n",
            "0     ...           0         0             0                    0   \n",
            "1     ...           0         0             0                    0   \n",
            "2     ...           0         0             0                    0   \n",
            "3     ...           0         0             0                    0   \n",
            "4     ...           0         0             0                    0   \n",
            "...   ...         ...       ...           ...                  ...   \n",
            "4915  ...           0         0             0                    0   \n",
            "4916  ...           1         1             0                    0   \n",
            "4917  ...           0         0             0                    0   \n",
            "4918  ...           0         0             1                    1   \n",
            "4919  ...           0         0             0                    0   \n",
            "\n",
            "      small_dents_in_nails  inflammatory_nails  blister  red_sore_around_nose  \\\n",
            "0                        0                   0        0                     0   \n",
            "1                        0                   0        0                     0   \n",
            "2                        0                   0        0                     0   \n",
            "3                        0                   0        0                     0   \n",
            "4                        0                   0        0                     0   \n",
            "...                    ...                 ...      ...                   ...   \n",
            "4915                     0                   0        0                     0   \n",
            "4916                     0                   0        0                     0   \n",
            "4917                     0                   0        0                     0   \n",
            "4918                     1                   1        0                     0   \n",
            "4919                     0                   0        1                     1   \n",
            "\n",
            "      yellow_crust_ooze                                prognosis  \n",
            "0                     0                         Fungal infection  \n",
            "1                     0                         Fungal infection  \n",
            "2                     0                         Fungal infection  \n",
            "3                     0                         Fungal infection  \n",
            "4                     0                         Fungal infection  \n",
            "...                 ...                                      ...  \n",
            "4915                  0  (vertigo) Paroymsal  Positional Vertigo  \n",
            "4916                  0                                     Acne  \n",
            "4917                  0                  Urinary tract infection  \n",
            "4918                  0                                Psoriasis  \n",
            "4919                  1                                 Impetigo  \n",
            "\n",
            "[4920 rows x 133 columns]\n"
          ]
        }
      ]
    },
    {
      "cell_type": "code",
      "source": [
        "#summary statistics\n",
        "disease.describe()"
      ],
      "metadata": {
        "colab": {
          "base_uri": "https://localhost:8080/",
          "height": 393
        },
        "id": "b65wwhiRoedi",
        "outputId": "b7146e97-d2f4-4dff-f174-beb9d7c1f1cd"
      },
      "execution_count": null,
      "outputs": [
        {
          "output_type": "execute_result",
          "data": {
            "text/plain": [
              "           itching    skin_rash  nodal_skin_eruptions  continuous_sneezing  \\\n",
              "count  4920.000000  4920.000000           4920.000000          4920.000000   \n",
              "mean      0.137805     0.159756              0.021951             0.045122   \n",
              "std       0.344730     0.366417              0.146539             0.207593   \n",
              "min       0.000000     0.000000              0.000000             0.000000   \n",
              "25%       0.000000     0.000000              0.000000             0.000000   \n",
              "50%       0.000000     0.000000              0.000000             0.000000   \n",
              "75%       0.000000     0.000000              0.000000             0.000000   \n",
              "max       1.000000     1.000000              1.000000             1.000000   \n",
              "\n",
              "         shivering       chills   joint_pain  stomach_pain      acidity  \\\n",
              "count  4920.000000  4920.000000  4920.000000   4920.000000  4920.000000   \n",
              "mean      0.021951     0.162195     0.139024      0.045122     0.045122   \n",
              "std       0.146539     0.368667     0.346007      0.207593     0.207593   \n",
              "min       0.000000     0.000000     0.000000      0.000000     0.000000   \n",
              "25%       0.000000     0.000000     0.000000      0.000000     0.000000   \n",
              "50%       0.000000     0.000000     0.000000      0.000000     0.000000   \n",
              "75%       0.000000     0.000000     0.000000      0.000000     0.000000   \n",
              "max       1.000000     1.000000     1.000000      1.000000     1.000000   \n",
              "\n",
              "       ulcers_on_tongue  ...  pus_filled_pimples   blackheads     scurring  \\\n",
              "count       4920.000000  ...         4920.000000  4920.000000  4920.000000   \n",
              "mean           0.021951  ...            0.021951     0.021951     0.021951   \n",
              "std            0.146539  ...            0.146539     0.146539     0.146539   \n",
              "min            0.000000  ...            0.000000     0.000000     0.000000   \n",
              "25%            0.000000  ...            0.000000     0.000000     0.000000   \n",
              "50%            0.000000  ...            0.000000     0.000000     0.000000   \n",
              "75%            0.000000  ...            0.000000     0.000000     0.000000   \n",
              "max            1.000000  ...            1.000000     1.000000     1.000000   \n",
              "\n",
              "       skin_peeling  silver_like_dusting  small_dents_in_nails  \\\n",
              "count   4920.000000          4920.000000           4920.000000   \n",
              "mean       0.023171             0.023171              0.023171   \n",
              "std        0.150461             0.150461              0.150461   \n",
              "min        0.000000             0.000000              0.000000   \n",
              "25%        0.000000             0.000000              0.000000   \n",
              "50%        0.000000             0.000000              0.000000   \n",
              "75%        0.000000             0.000000              0.000000   \n",
              "max        1.000000             1.000000              1.000000   \n",
              "\n",
              "       inflammatory_nails      blister  red_sore_around_nose  \\\n",
              "count         4920.000000  4920.000000           4920.000000   \n",
              "mean             0.023171     0.023171              0.023171   \n",
              "std              0.150461     0.150461              0.150461   \n",
              "min              0.000000     0.000000              0.000000   \n",
              "25%              0.000000     0.000000              0.000000   \n",
              "50%              0.000000     0.000000              0.000000   \n",
              "75%              0.000000     0.000000              0.000000   \n",
              "max              1.000000     1.000000              1.000000   \n",
              "\n",
              "       yellow_crust_ooze  \n",
              "count        4920.000000  \n",
              "mean            0.023171  \n",
              "std             0.150461  \n",
              "min             0.000000  \n",
              "25%             0.000000  \n",
              "50%             0.000000  \n",
              "75%             0.000000  \n",
              "max             1.000000  \n",
              "\n",
              "[8 rows x 132 columns]"
            ],
            "text/html": [
              "\n",
              "  <div id=\"df-b87150bb-5e97-45fd-97e0-fa96b9dd28b9\">\n",
              "    <div class=\"colab-df-container\">\n",
              "      <div>\n",
              "<style scoped>\n",
              "    .dataframe tbody tr th:only-of-type {\n",
              "        vertical-align: middle;\n",
              "    }\n",
              "\n",
              "    .dataframe tbody tr th {\n",
              "        vertical-align: top;\n",
              "    }\n",
              "\n",
              "    .dataframe thead th {\n",
              "        text-align: right;\n",
              "    }\n",
              "</style>\n",
              "<table border=\"1\" class=\"dataframe\">\n",
              "  <thead>\n",
              "    <tr style=\"text-align: right;\">\n",
              "      <th></th>\n",
              "      <th>itching</th>\n",
              "      <th>skin_rash</th>\n",
              "      <th>nodal_skin_eruptions</th>\n",
              "      <th>continuous_sneezing</th>\n",
              "      <th>shivering</th>\n",
              "      <th>chills</th>\n",
              "      <th>joint_pain</th>\n",
              "      <th>stomach_pain</th>\n",
              "      <th>acidity</th>\n",
              "      <th>ulcers_on_tongue</th>\n",
              "      <th>...</th>\n",
              "      <th>pus_filled_pimples</th>\n",
              "      <th>blackheads</th>\n",
              "      <th>scurring</th>\n",
              "      <th>skin_peeling</th>\n",
              "      <th>silver_like_dusting</th>\n",
              "      <th>small_dents_in_nails</th>\n",
              "      <th>inflammatory_nails</th>\n",
              "      <th>blister</th>\n",
              "      <th>red_sore_around_nose</th>\n",
              "      <th>yellow_crust_ooze</th>\n",
              "    </tr>\n",
              "  </thead>\n",
              "  <tbody>\n",
              "    <tr>\n",
              "      <th>count</th>\n",
              "      <td>4920.000000</td>\n",
              "      <td>4920.000000</td>\n",
              "      <td>4920.000000</td>\n",
              "      <td>4920.000000</td>\n",
              "      <td>4920.000000</td>\n",
              "      <td>4920.000000</td>\n",
              "      <td>4920.000000</td>\n",
              "      <td>4920.000000</td>\n",
              "      <td>4920.000000</td>\n",
              "      <td>4920.000000</td>\n",
              "      <td>...</td>\n",
              "      <td>4920.000000</td>\n",
              "      <td>4920.000000</td>\n",
              "      <td>4920.000000</td>\n",
              "      <td>4920.000000</td>\n",
              "      <td>4920.000000</td>\n",
              "      <td>4920.000000</td>\n",
              "      <td>4920.000000</td>\n",
              "      <td>4920.000000</td>\n",
              "      <td>4920.000000</td>\n",
              "      <td>4920.000000</td>\n",
              "    </tr>\n",
              "    <tr>\n",
              "      <th>mean</th>\n",
              "      <td>0.137805</td>\n",
              "      <td>0.159756</td>\n",
              "      <td>0.021951</td>\n",
              "      <td>0.045122</td>\n",
              "      <td>0.021951</td>\n",
              "      <td>0.162195</td>\n",
              "      <td>0.139024</td>\n",
              "      <td>0.045122</td>\n",
              "      <td>0.045122</td>\n",
              "      <td>0.021951</td>\n",
              "      <td>...</td>\n",
              "      <td>0.021951</td>\n",
              "      <td>0.021951</td>\n",
              "      <td>0.021951</td>\n",
              "      <td>0.023171</td>\n",
              "      <td>0.023171</td>\n",
              "      <td>0.023171</td>\n",
              "      <td>0.023171</td>\n",
              "      <td>0.023171</td>\n",
              "      <td>0.023171</td>\n",
              "      <td>0.023171</td>\n",
              "    </tr>\n",
              "    <tr>\n",
              "      <th>std</th>\n",
              "      <td>0.344730</td>\n",
              "      <td>0.366417</td>\n",
              "      <td>0.146539</td>\n",
              "      <td>0.207593</td>\n",
              "      <td>0.146539</td>\n",
              "      <td>0.368667</td>\n",
              "      <td>0.346007</td>\n",
              "      <td>0.207593</td>\n",
              "      <td>0.207593</td>\n",
              "      <td>0.146539</td>\n",
              "      <td>...</td>\n",
              "      <td>0.146539</td>\n",
              "      <td>0.146539</td>\n",
              "      <td>0.146539</td>\n",
              "      <td>0.150461</td>\n",
              "      <td>0.150461</td>\n",
              "      <td>0.150461</td>\n",
              "      <td>0.150461</td>\n",
              "      <td>0.150461</td>\n",
              "      <td>0.150461</td>\n",
              "      <td>0.150461</td>\n",
              "    </tr>\n",
              "    <tr>\n",
              "      <th>min</th>\n",
              "      <td>0.000000</td>\n",
              "      <td>0.000000</td>\n",
              "      <td>0.000000</td>\n",
              "      <td>0.000000</td>\n",
              "      <td>0.000000</td>\n",
              "      <td>0.000000</td>\n",
              "      <td>0.000000</td>\n",
              "      <td>0.000000</td>\n",
              "      <td>0.000000</td>\n",
              "      <td>0.000000</td>\n",
              "      <td>...</td>\n",
              "      <td>0.000000</td>\n",
              "      <td>0.000000</td>\n",
              "      <td>0.000000</td>\n",
              "      <td>0.000000</td>\n",
              "      <td>0.000000</td>\n",
              "      <td>0.000000</td>\n",
              "      <td>0.000000</td>\n",
              "      <td>0.000000</td>\n",
              "      <td>0.000000</td>\n",
              "      <td>0.000000</td>\n",
              "    </tr>\n",
              "    <tr>\n",
              "      <th>25%</th>\n",
              "      <td>0.000000</td>\n",
              "      <td>0.000000</td>\n",
              "      <td>0.000000</td>\n",
              "      <td>0.000000</td>\n",
              "      <td>0.000000</td>\n",
              "      <td>0.000000</td>\n",
              "      <td>0.000000</td>\n",
              "      <td>0.000000</td>\n",
              "      <td>0.000000</td>\n",
              "      <td>0.000000</td>\n",
              "      <td>...</td>\n",
              "      <td>0.000000</td>\n",
              "      <td>0.000000</td>\n",
              "      <td>0.000000</td>\n",
              "      <td>0.000000</td>\n",
              "      <td>0.000000</td>\n",
              "      <td>0.000000</td>\n",
              "      <td>0.000000</td>\n",
              "      <td>0.000000</td>\n",
              "      <td>0.000000</td>\n",
              "      <td>0.000000</td>\n",
              "    </tr>\n",
              "    <tr>\n",
              "      <th>50%</th>\n",
              "      <td>0.000000</td>\n",
              "      <td>0.000000</td>\n",
              "      <td>0.000000</td>\n",
              "      <td>0.000000</td>\n",
              "      <td>0.000000</td>\n",
              "      <td>0.000000</td>\n",
              "      <td>0.000000</td>\n",
              "      <td>0.000000</td>\n",
              "      <td>0.000000</td>\n",
              "      <td>0.000000</td>\n",
              "      <td>...</td>\n",
              "      <td>0.000000</td>\n",
              "      <td>0.000000</td>\n",
              "      <td>0.000000</td>\n",
              "      <td>0.000000</td>\n",
              "      <td>0.000000</td>\n",
              "      <td>0.000000</td>\n",
              "      <td>0.000000</td>\n",
              "      <td>0.000000</td>\n",
              "      <td>0.000000</td>\n",
              "      <td>0.000000</td>\n",
              "    </tr>\n",
              "    <tr>\n",
              "      <th>75%</th>\n",
              "      <td>0.000000</td>\n",
              "      <td>0.000000</td>\n",
              "      <td>0.000000</td>\n",
              "      <td>0.000000</td>\n",
              "      <td>0.000000</td>\n",
              "      <td>0.000000</td>\n",
              "      <td>0.000000</td>\n",
              "      <td>0.000000</td>\n",
              "      <td>0.000000</td>\n",
              "      <td>0.000000</td>\n",
              "      <td>...</td>\n",
              "      <td>0.000000</td>\n",
              "      <td>0.000000</td>\n",
              "      <td>0.000000</td>\n",
              "      <td>0.000000</td>\n",
              "      <td>0.000000</td>\n",
              "      <td>0.000000</td>\n",
              "      <td>0.000000</td>\n",
              "      <td>0.000000</td>\n",
              "      <td>0.000000</td>\n",
              "      <td>0.000000</td>\n",
              "    </tr>\n",
              "    <tr>\n",
              "      <th>max</th>\n",
              "      <td>1.000000</td>\n",
              "      <td>1.000000</td>\n",
              "      <td>1.000000</td>\n",
              "      <td>1.000000</td>\n",
              "      <td>1.000000</td>\n",
              "      <td>1.000000</td>\n",
              "      <td>1.000000</td>\n",
              "      <td>1.000000</td>\n",
              "      <td>1.000000</td>\n",
              "      <td>1.000000</td>\n",
              "      <td>...</td>\n",
              "      <td>1.000000</td>\n",
              "      <td>1.000000</td>\n",
              "      <td>1.000000</td>\n",
              "      <td>1.000000</td>\n",
              "      <td>1.000000</td>\n",
              "      <td>1.000000</td>\n",
              "      <td>1.000000</td>\n",
              "      <td>1.000000</td>\n",
              "      <td>1.000000</td>\n",
              "      <td>1.000000</td>\n",
              "    </tr>\n",
              "  </tbody>\n",
              "</table>\n",
              "<p>8 rows × 132 columns</p>\n",
              "</div>\n",
              "      <button class=\"colab-df-convert\" onclick=\"convertToInteractive('df-b87150bb-5e97-45fd-97e0-fa96b9dd28b9')\"\n",
              "              title=\"Convert this dataframe to an interactive table.\"\n",
              "              style=\"display:none;\">\n",
              "        \n",
              "  <svg xmlns=\"http://www.w3.org/2000/svg\" height=\"24px\"viewBox=\"0 0 24 24\"\n",
              "       width=\"24px\">\n",
              "    <path d=\"M0 0h24v24H0V0z\" fill=\"none\"/>\n",
              "    <path d=\"M18.56 5.44l.94 2.06.94-2.06 2.06-.94-2.06-.94-.94-2.06-.94 2.06-2.06.94zm-11 1L8.5 8.5l.94-2.06 2.06-.94-2.06-.94L8.5 2.5l-.94 2.06-2.06.94zm10 10l.94 2.06.94-2.06 2.06-.94-2.06-.94-.94-2.06-.94 2.06-2.06.94z\"/><path d=\"M17.41 7.96l-1.37-1.37c-.4-.4-.92-.59-1.43-.59-.52 0-1.04.2-1.43.59L10.3 9.45l-7.72 7.72c-.78.78-.78 2.05 0 2.83L4 21.41c.39.39.9.59 1.41.59.51 0 1.02-.2 1.41-.59l7.78-7.78 2.81-2.81c.8-.78.8-2.07 0-2.86zM5.41 20L4 18.59l7.72-7.72 1.47 1.35L5.41 20z\"/>\n",
              "  </svg>\n",
              "      </button>\n",
              "      \n",
              "  <style>\n",
              "    .colab-df-container {\n",
              "      display:flex;\n",
              "      flex-wrap:wrap;\n",
              "      gap: 12px;\n",
              "    }\n",
              "\n",
              "    .colab-df-convert {\n",
              "      background-color: #E8F0FE;\n",
              "      border: none;\n",
              "      border-radius: 50%;\n",
              "      cursor: pointer;\n",
              "      display: none;\n",
              "      fill: #1967D2;\n",
              "      height: 32px;\n",
              "      padding: 0 0 0 0;\n",
              "      width: 32px;\n",
              "    }\n",
              "\n",
              "    .colab-df-convert:hover {\n",
              "      background-color: #E2EBFA;\n",
              "      box-shadow: 0px 1px 2px rgba(60, 64, 67, 0.3), 0px 1px 3px 1px rgba(60, 64, 67, 0.15);\n",
              "      fill: #174EA6;\n",
              "    }\n",
              "\n",
              "    [theme=dark] .colab-df-convert {\n",
              "      background-color: #3B4455;\n",
              "      fill: #D2E3FC;\n",
              "    }\n",
              "\n",
              "    [theme=dark] .colab-df-convert:hover {\n",
              "      background-color: #434B5C;\n",
              "      box-shadow: 0px 1px 3px 1px rgba(0, 0, 0, 0.15);\n",
              "      filter: drop-shadow(0px 1px 2px rgba(0, 0, 0, 0.3));\n",
              "      fill: #FFFFFF;\n",
              "    }\n",
              "  </style>\n",
              "\n",
              "      <script>\n",
              "        const buttonEl =\n",
              "          document.querySelector('#df-b87150bb-5e97-45fd-97e0-fa96b9dd28b9 button.colab-df-convert');\n",
              "        buttonEl.style.display =\n",
              "          google.colab.kernel.accessAllowed ? 'block' : 'none';\n",
              "\n",
              "        async function convertToInteractive(key) {\n",
              "          const element = document.querySelector('#df-b87150bb-5e97-45fd-97e0-fa96b9dd28b9');\n",
              "          const dataTable =\n",
              "            await google.colab.kernel.invokeFunction('convertToInteractive',\n",
              "                                                     [key], {});\n",
              "          if (!dataTable) return;\n",
              "\n",
              "          const docLinkHtml = 'Like what you see? Visit the ' +\n",
              "            '<a target=\"_blank\" href=https://colab.research.google.com/notebooks/data_table.ipynb>data table notebook</a>'\n",
              "            + ' to learn more about interactive tables.';\n",
              "          element.innerHTML = '';\n",
              "          dataTable['output_type'] = 'display_data';\n",
              "          await google.colab.output.renderOutput(dataTable, element);\n",
              "          const docLink = document.createElement('div');\n",
              "          docLink.innerHTML = docLinkHtml;\n",
              "          element.appendChild(docLink);\n",
              "        }\n",
              "      </script>\n",
              "    </div>\n",
              "  </div>\n",
              "  "
            ]
          },
          "metadata": {},
          "execution_count": 48
        }
      ]
    },
    {
      "cell_type": "code",
      "source": [
        "#To check missing value\n",
        "disease.isnull().sum()\n"
      ],
      "metadata": {
        "colab": {
          "base_uri": "https://localhost:8080/"
        },
        "id": "L1_oSFB0oneK",
        "outputId": "fff08756-40ae-4bf5-fbf9-b6c91c650b7b"
      },
      "execution_count": null,
      "outputs": [
        {
          "output_type": "execute_result",
          "data": {
            "text/plain": [
              "itching                 0\n",
              "skin_rash               0\n",
              "nodal_skin_eruptions    0\n",
              "continuous_sneezing     0\n",
              "shivering               0\n",
              "                       ..\n",
              "inflammatory_nails      0\n",
              "blister                 0\n",
              "red_sore_around_nose    0\n",
              "yellow_crust_ooze       0\n",
              "prognosis               0\n",
              "Length: 133, dtype: int64"
            ]
          },
          "metadata": {},
          "execution_count": 49
        }
      ]
    },
    {
      "cell_type": "code",
      "source": [
        "#To check missing value\n",
        "disease.sum()\n"
      ],
      "metadata": {
        "colab": {
          "base_uri": "https://localhost:8080/"
        },
        "id": "eBfvWdxNorSW",
        "outputId": "15184204-3ace-4795-8087-29abc4f0f1f3"
      },
      "execution_count": null,
      "outputs": [
        {
          "output_type": "execute_result",
          "data": {
            "text/plain": [
              "itching                                                               678\n",
              "skin_rash                                                             786\n",
              "nodal_skin_eruptions                                                  108\n",
              "continuous_sneezing                                                   222\n",
              "shivering                                                             108\n",
              "                                              ...                        \n",
              "inflammatory_nails                                                    114\n",
              "blister                                                               114\n",
              "red_sore_around_nose                                                  114\n",
              "yellow_crust_ooze                                                     114\n",
              "prognosis               Fungal infectionFungal infectionFungal infecti...\n",
              "Length: 133, dtype: object"
            ]
          },
          "metadata": {},
          "execution_count": 50
        }
      ]
    },
    {
      "cell_type": "code",
      "source": [
        "disease.columns"
      ],
      "metadata": {
        "colab": {
          "base_uri": "https://localhost:8080/"
        },
        "id": "PZY5CB1lo67-",
        "outputId": "470f008f-6d3c-4946-edac-8253db4391a6"
      },
      "execution_count": null,
      "outputs": [
        {
          "output_type": "execute_result",
          "data": {
            "text/plain": [
              "Index(['itching', 'skin_rash', 'nodal_skin_eruptions', 'continuous_sneezing',\n",
              "       'shivering', 'chills', 'joint_pain', 'stomach_pain', 'acidity',\n",
              "       'ulcers_on_tongue',\n",
              "       ...\n",
              "       'blackheads', 'scurring', 'skin_peeling', 'silver_like_dusting',\n",
              "       'small_dents_in_nails', 'inflammatory_nails', 'blister',\n",
              "       'red_sore_around_nose', 'yellow_crust_ooze', 'prognosis'],\n",
              "      dtype='object', length=133)"
            ]
          },
          "metadata": {},
          "execution_count": 51
        }
      ]
    },
    {
      "cell_type": "code",
      "source": [
        "X = disease.iloc[:,:-1]\n",
        "y = disease.iloc[:,-1]"
      ],
      "metadata": {
        "id": "xpamWtE3qE-C"
      },
      "execution_count": null,
      "outputs": []
    },
    {
      "cell_type": "code",
      "source": [
        "X.shape"
      ],
      "metadata": {
        "colab": {
          "base_uri": "https://localhost:8080/"
        },
        "id": "f6p7JtYQqaRi",
        "outputId": "01bbcf0c-123d-4317-c7c0-cf35af201138"
      },
      "execution_count": null,
      "outputs": [
        {
          "output_type": "execute_result",
          "data": {
            "text/plain": [
              "(4920, 132)"
            ]
          },
          "metadata": {},
          "execution_count": 53
        }
      ]
    },
    {
      "cell_type": "code",
      "source": [
        "y.shape"
      ],
      "metadata": {
        "colab": {
          "base_uri": "https://localhost:8080/"
        },
        "id": "36ie1IAuqfeQ",
        "outputId": "2bbdbd9e-3b86-4ae3-d5f5-1a219a60460a"
      },
      "execution_count": null,
      "outputs": [
        {
          "output_type": "execute_result",
          "data": {
            "text/plain": [
              "(4920,)"
            ]
          },
          "metadata": {},
          "execution_count": 54
        }
      ]
    },
    {
      "cell_type": "code",
      "source": [
        "from sklearn.model_selection import train_test_split\n",
        "X_train, X_test, y_train, y_test = train_test_split(X,y, random_state=2529)"
      ],
      "metadata": {
        "id": "99b-9BC-qp72"
      },
      "execution_count": null,
      "outputs": []
    },
    {
      "cell_type": "code",
      "source": [
        "X_train.shape,X_test.shape,y_train.shape, y_test.shape"
      ],
      "metadata": {
        "colab": {
          "base_uri": "https://localhost:8080/"
        },
        "id": "xXtdbDhtrPOu",
        "outputId": "de52e638-b6d6-4366-eada-cac57ba96f77"
      },
      "execution_count": null,
      "outputs": [
        {
          "output_type": "execute_result",
          "data": {
            "text/plain": [
              "((3690, 132), (1230, 132), (3690,), (1230,))"
            ]
          },
          "metadata": {},
          "execution_count": 56
        }
      ]
    },
    {
      "cell_type": "code",
      "source": [
        "from sklearn.ensemble import RandomForestClassifier\n",
        "model = RandomForestClassifier()"
      ],
      "metadata": {
        "id": "8rVsAquxrnm2"
      },
      "execution_count": null,
      "outputs": []
    },
    {
      "cell_type": "code",
      "source": [
        "model.fit(X_train, y_train)"
      ],
      "metadata": {
        "colab": {
          "base_uri": "https://localhost:8080/"
        },
        "id": "su3H9SGjsCi5",
        "outputId": "0c0a3623-f9e9-44df-c5b4-ed59c960a5e3"
      },
      "execution_count": null,
      "outputs": [
        {
          "output_type": "execute_result",
          "data": {
            "text/plain": [
              "RandomForestClassifier()"
            ]
          },
          "metadata": {},
          "execution_count": 58
        }
      ]
    },
    {
      "cell_type": "code",
      "source": [
        "# predict with model\n",
        "y_pred=model.predict(X_test)"
      ],
      "metadata": {
        "id": "2bWmKE3N2znf"
      },
      "execution_count": null,
      "outputs": []
    },
    {
      "cell_type": "code",
      "source": [
        "# model evaluation\n",
        "from sklearn.metrics import accuracy_score, confusion_matrix , classification_report"
      ],
      "metadata": {
        "id": "0QkdBv7m3rk0"
      },
      "execution_count": null,
      "outputs": []
    },
    {
      "cell_type": "code",
      "source": [
        "#model accuracy\n",
        "accuracy_score(y_test,y_pred)"
      ],
      "metadata": {
        "colab": {
          "base_uri": "https://localhost:8080/"
        },
        "id": "Au3BZYdR4Vkk",
        "outputId": "5fa65090-4b43-4263-dcbf-0c4494c87701"
      },
      "execution_count": null,
      "outputs": [
        {
          "output_type": "execute_result",
          "data": {
            "text/plain": [
              "1.0"
            ]
          },
          "metadata": {},
          "execution_count": 61
        }
      ]
    },
    {
      "cell_type": "code",
      "source": [
        "# model confusion matrix\n",
        "\n",
        "confusion_matrix(y_test,y_pred)"
      ],
      "metadata": {
        "colab": {
          "base_uri": "https://localhost:8080/"
        },
        "id": "ds09c_4F4pmR",
        "outputId": "9134b8c9-b2b9-43f8-f2c7-878e79e76af8"
      },
      "execution_count": null,
      "outputs": [
        {
          "output_type": "execute_result",
          "data": {
            "text/plain": [
              "array([[26,  0,  0, ...,  0,  0,  0],\n",
              "       [ 0, 28,  0, ...,  0,  0,  0],\n",
              "       [ 0,  0, 31, ...,  0,  0,  0],\n",
              "       ...,\n",
              "       [ 0,  0,  0, ..., 30,  0,  0],\n",
              "       [ 0,  0,  0, ...,  0, 26,  0],\n",
              "       [ 0,  0,  0, ...,  0,  0, 30]])"
            ]
          },
          "metadata": {},
          "execution_count": 62
        }
      ]
    },
    {
      "cell_type": "code",
      "source": [
        "# model classification report\n",
        "print(classification_report(y_test,y_pred))"
      ],
      "metadata": {
        "colab": {
          "base_uri": "https://localhost:8080/"
        },
        "id": "CrvnWmfd5q_T",
        "outputId": "87118b3d-d02c-4de7-879b-5e7c07f6a378"
      },
      "execution_count": null,
      "outputs": [
        {
          "output_type": "stream",
          "name": "stdout",
          "text": [
            "                                         precision    recall  f1-score   support\n",
            "\n",
            "(vertigo) Paroymsal  Positional Vertigo       1.00      1.00      1.00        26\n",
            "                                   AIDS       1.00      1.00      1.00        28\n",
            "                                   Acne       1.00      1.00      1.00        31\n",
            "                    Alcoholic hepatitis       1.00      1.00      1.00        36\n",
            "                                Allergy       1.00      1.00      1.00        28\n",
            "                              Arthritis       1.00      1.00      1.00        36\n",
            "                       Bronchial Asthma       1.00      1.00      1.00        32\n",
            "                   Cervical spondylosis       1.00      1.00      1.00        26\n",
            "                            Chicken pox       1.00      1.00      1.00        26\n",
            "                    Chronic cholestasis       1.00      1.00      1.00        28\n",
            "                            Common Cold       1.00      1.00      1.00        36\n",
            "                                 Dengue       1.00      1.00      1.00        24\n",
            "                              Diabetes        1.00      1.00      1.00        29\n",
            "           Dimorphic hemmorhoids(piles)       1.00      1.00      1.00        31\n",
            "                          Drug Reaction       1.00      1.00      1.00        26\n",
            "                       Fungal infection       1.00      1.00      1.00        31\n",
            "                                   GERD       1.00      1.00      1.00        22\n",
            "                        Gastroenteritis       1.00      1.00      1.00        34\n",
            "                           Heart attack       1.00      1.00      1.00        34\n",
            "                            Hepatitis B       1.00      1.00      1.00        37\n",
            "                            Hepatitis C       1.00      1.00      1.00        27\n",
            "                            Hepatitis D       1.00      1.00      1.00        33\n",
            "                            Hepatitis E       1.00      1.00      1.00        24\n",
            "                          Hypertension        1.00      1.00      1.00        26\n",
            "                        Hyperthyroidism       1.00      1.00      1.00        26\n",
            "                           Hypoglycemia       1.00      1.00      1.00        28\n",
            "                         Hypothyroidism       1.00      1.00      1.00        25\n",
            "                               Impetigo       1.00      1.00      1.00        41\n",
            "                               Jaundice       1.00      1.00      1.00        31\n",
            "                                Malaria       1.00      1.00      1.00        31\n",
            "                               Migraine       1.00      1.00      1.00        30\n",
            "                        Osteoarthristis       1.00      1.00      1.00        35\n",
            "           Paralysis (brain hemorrhage)       1.00      1.00      1.00        36\n",
            "                    Peptic ulcer diseae       1.00      1.00      1.00        25\n",
            "                              Pneumonia       1.00      1.00      1.00        28\n",
            "                              Psoriasis       1.00      1.00      1.00        29\n",
            "                           Tuberculosis       1.00      1.00      1.00        38\n",
            "                                Typhoid       1.00      1.00      1.00        30\n",
            "                Urinary tract infection       1.00      1.00      1.00        30\n",
            "                         Varicose veins       1.00      1.00      1.00        26\n",
            "                            hepatitis A       1.00      1.00      1.00        30\n",
            "\n",
            "                               accuracy                           1.00      1230\n",
            "                              macro avg       1.00      1.00      1.00      1230\n",
            "                           weighted avg       1.00      1.00      1.00      1230\n",
            "\n"
          ]
        }
      ]
    },
    {
      "cell_type": "code",
      "source": [
        "y_pred"
      ],
      "metadata": {
        "colab": {
          "base_uri": "https://localhost:8080/"
        },
        "id": "OYOUOtcXDW_J",
        "outputId": "6e3dfc79-6c66-46b5-96b9-27005265cb04"
      },
      "execution_count": null,
      "outputs": [
        {
          "output_type": "execute_result",
          "data": {
            "text/plain": [
              "array(['Osteoarthristis', 'Allergy', 'Tuberculosis', ...,\n",
              "       'Fungal infection', 'Hepatitis D', 'Acne'], dtype=object)"
            ]
          },
          "metadata": {},
          "execution_count": 64
        }
      ]
    },
    {
      "cell_type": "code",
      "source": [
        "X_new = ['skin_rash']"
      ],
      "metadata": {
        "id": "rpaLslWEEd39"
      },
      "execution_count": null,
      "outputs": []
    }
  ]
}